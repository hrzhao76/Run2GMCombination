{
 "cells": [
  {
   "cell_type": "code",
   "execution_count": 54,
   "metadata": {},
   "outputs": [],
   "source": [
    "import uproot\n",
    "from pathlib import Path\n",
    "import numpy as np\n",
    "import pandas as pd "
   ]
  },
  {
   "cell_type": "code",
   "execution_count": 2,
   "metadata": {},
   "outputs": [],
   "source": [
    "rootfile = uproot.open(\"./Figure6c.root\")"
   ]
  },
  {
   "cell_type": "code",
   "execution_count": 38,
   "metadata": {},
   "outputs": [],
   "source": [
    "WZ_SR_histname_dict = {\n",
    "    \"data\" : \"Hist1D_y1\",\n",
    "    \"Fake\" : \"Hist1D_y2\",\n",
    "    \"ZZ\" : \"Hist1D_y3\",\n",
    "    \"VVV\" : \"Hist1D_y4\",\n",
    "    \"WZEWK\" : \"Hist1D_y5\",\n",
    "    \"WZQCD\" : \"Hist1D_y6\",\n",
    "    \"BKG_TOT\" : \"Hist1D_y7\",\n",
    "}"
   ]
  },
  {
   "cell_type": "code",
   "execution_count": 39,
   "metadata": {},
   "outputs": [],
   "source": [
    "WZ_SR_hist_dict = dict.fromkeys(WZ_SR_histname_dict.keys())"
   ]
  },
  {
   "cell_type": "code",
   "execution_count": 52,
   "metadata": {},
   "outputs": [
    {
     "name": "stdout",
     "output_type": "stream",
     "text": [
      "data : 71.86111128330231\n",
      "Fake : 0.3603630007892207\n",
      "ZZ : 6.219691976904869\n",
      "VVV : 0.86284498590976\n",
      "WZEWK : 25.963776782155037\n",
      "WZQCD : 32.551023706793785\n",
      "BKG_TOT : 65.95770508050919\n"
     ]
    }
   ],
   "source": [
    "for data_type, hist_name in WZ_SR_histname_dict.items():\n",
    "    hist = rootfile['Table 2'][hist_name].to_hist()\n",
    "    hist.variances()[:] = rootfile['Table 2'][f'{hist_name}_e1'].to_numpy()[0]\n",
    "    print(f\"{data_type} : {hist.values().sum()}\")\n",
    "    WZ_SR_hist_dict[data_type] = hist"
   ]
  },
  {
   "cell_type": "code",
   "execution_count": 55,
   "metadata": {},
   "outputs": [],
   "source": [
    "m_WZ_bin_SR_edges = np.array([150, 200, 230, 270, 310, 350, 390, 480, 660, 1200])\n",
    "m_WZ_bin_SR_binwidth = np.diff(m_WZ_bin_SR_edges)"
   ]
  },
  {
   "cell_type": "code",
   "execution_count": 59,
   "metadata": {},
   "outputs": [
    {
     "data": {
      "text/html": [
       "<html>\n",
       "<div style=\"display:flex; align-items:center;\">\n",
       "<div style=\"width:290px;\">\n",
       "<svg xmlns=\"http://www.w3.org/2000/svg\" viewBox=\"-10 -105 270 120\">\n",
       "<line x1=\"-5\" y1=\"0\" x2=\"255\" y2=\"0\" style=\"fill:none;stroke-width:2;stroke:currentColor\"/>\n",
       "<text text-anchor=\"middle\" x=\"0\" y=\"15\" style=\"fill:currentColor;\">\n",
       "150\n",
       "</text>\n",
       "<text text-anchor=\"middle\" x=\"250\" y=\"15\" style=\"fill:currentColor;\">\n",
       "1.2e+03\n",
       "</text>\n",
       "<text text-anchor=\"middle\" x=\"125.0\" y=\"15\" style=\"fill:currentColor;\">\n",
       "mWZ [GeV]\n",
       "</text>\n",
       "<polyline points=\"  0,0   0,-43.1 11.9048,-43.1 11.9048,-71.8 19.0476,-71.8 19.0476,-100 28.5714,-100 28.5714,-38.5 38.0952,-38.5 38.0952,-69.2 47.619,-69.2 47.619,-92.3 57.1429,-92.3 57.1429,-17.1 78.5714,-17.1 78.5714,-8.55 121.429,-8.55 121.429,-1.71 250,-1.71 250,0\" style=\"fill:none; stroke:currentColor;\"/>\n",
       "</svg>\n",
       "</div>\n",
       "<div style=\"flex=grow:1;\">\n",
       "Variable([150, 200, 230, 270, 310, 350, 390, 480, 660, 1200], name='xaxis', label='mWZ [GeV]')<br/>\n",
       "<hr style=\"margin-top:.2em; margin-bottom:.2em;\"/>\n",
       "Weight() Σ=WeightedSum(value=66, variance=44.8587)\n",
       "\n",
       "</div>\n",
       "</div>\n",
       "</html>"
      ],
      "text/plain": [
       "Hist(Variable([150, 200, 230, 270, 310, 350, 390, 480, 660, 1200], name='xaxis', label='mWZ [GeV]'), storage=Weight()) # Sum: WeightedSum(value=66, variance=44.8587)"
      ]
     },
     "execution_count": 59,
     "metadata": {},
     "output_type": "execute_result"
    }
   ],
   "source": [
    "WZ_SR_hist_dict['data'] / 50 * m_WZ_bin_SR_binwidth"
   ]
  },
  {
   "cell_type": "code",
   "execution_count": 60,
   "metadata": {},
   "outputs": [],
   "source": [
    "WZ_SR_hist_prenorm_dict = dict.fromkeys(WZ_SR_hist_dict.keys())\n",
    "for data_type, hist in WZ_SR_hist_dict.items():\n",
    "    WZ_SR_hist_prenorm_dict[data_type] = hist / 50 * m_WZ_bin_SR_binwidth"
   ]
  },
  {
   "cell_type": "code",
   "execution_count": 61,
   "metadata": {},
   "outputs": [
    {
     "data": {
      "text/plain": [
       "{'data': Hist(Variable([150, 200, 230, 270, 310, 350, 390, 480, 660, 1200], name='xaxis', label='mWZ [GeV]'), storage=Weight()) # Sum: WeightedSum(value=66, variance=44.8587),\n",
       " 'Fake': Hist(Variable([150, 200, 230, 270, 310, 350, 390, 480, 660, 1200], name='xaxis', label='mWZ [GeV]'), storage=Weight()) # Sum: WeightedSum(value=0.288286, variance=1.41132),\n",
       " 'ZZ': Hist(Variable([150, 200, 230, 270, 310, 350, 390, 480, 660, 1200], name='xaxis', label='mWZ [GeV]'), storage=Weight()) # Sum: WeightedSum(value=5.18397, variance=10.0959),\n",
       " 'VVV': Hist(Variable([150, 200, 230, 270, 310, 350, 390, 480, 660, 1200], name='xaxis', label='mWZ [GeV]'), storage=Weight()) # Sum: WeightedSum(value=0.861834, variance=5.65373),\n",
       " 'WZEWK': Hist(Variable([150, 200, 230, 270, 310, 350, 390, 480, 660, 1200], name='xaxis', label='mWZ [GeV]'), storage=Weight()) # Sum: WeightedSum(value=26.0735, variance=32.5901),\n",
       " 'WZQCD': Hist(Variable([150, 200, 230, 270, 310, 350, 390, 480, 660, 1200], name='xaxis', label='mWZ [GeV]'), storage=Weight()) # Sum: WeightedSum(value=28.7351, variance=26.3099),\n",
       " 'BKG_TOT': Hist(Variable([150, 200, 230, 270, 310, 350, 390, 480, 660, 1200], name='xaxis', label='mWZ [GeV]'), storage=Weight()) # Sum: WeightedSum(value=61.1427, variance=43.9306)}"
      ]
     },
     "execution_count": 61,
     "metadata": {},
     "output_type": "execute_result"
    }
   ],
   "source": [
    "WZ_SR_hist_prenorm_dict"
   ]
  },
  {
   "cell_type": "code",
   "execution_count": 67,
   "metadata": {},
   "outputs": [
    {
     "data": {
      "text/plain": [
       "WeightedSum(value=28.7351, variance=26.3099)"
      ]
     },
     "execution_count": 67,
     "metadata": {},
     "output_type": "execute_result"
    }
   ],
   "source": [
    "WZ_SR_hist_prenorm_dict['WZQCD'].sum()"
   ]
  },
  {
   "cell_type": "code",
   "execution_count": 68,
   "metadata": {},
   "outputs": [
    {
     "data": {
      "text/plain": [
       "[StairsArtists(stairs=<matplotlib.patches.StepPatch object at 0x7f322a696800>, errorbar=<ErrorbarContainer object of 3 artists>, legend_artist=<ErrorbarContainer object of 3 artists>)]"
      ]
     },
     "execution_count": 68,
     "metadata": {},
     "output_type": "execute_result"
    },
    {
     "data": {
      "image/png": "[encoded data removed]",
      "text/plain": [
       "<Figure size 640x480 with 1 Axes>"
      ]
     },
     "metadata": {},
     "output_type": "display_data"
    }
   ],
   "source": [
    "WZ_SR_hist_prenorm_dict['data'].plot()"
   ]
  },
  {
   "cell_type": "code",
   "execution_count": null,
   "metadata": {},
   "outputs": [],
   "source": []
  }
 ],
 "metadata": {
  "kernelspec": {
   "display_name": "ssWWWZjj",
   "language": "python",
   "name": "python3"
  },
  "language_info": {
   "codemirror_mode": {
    "name": "ipython",
    "version": 3
   },
   "file_extension": ".py",
   "mimetype": "text/x-python",
   "name": "python",
   "nbconvert_exporter": "python",
   "pygments_lexer": "ipython3",
   "version": "3.10.11"
  }
 },
 "nbformat": 4,
 "nbformat_minor": 2
}
